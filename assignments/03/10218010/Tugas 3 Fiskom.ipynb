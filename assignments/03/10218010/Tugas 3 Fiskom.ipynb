{
 "cells": [
  {
   "cell_type": "code",
   "execution_count": 50,
   "id": "43ed5fa0",
   "metadata": {},
   "outputs": [],
   "source": [
    "import html #Mengimport module html, hanya dapat dilakukan bila sudah menginstall html dengan pip install html"
   ]
  },
  {
   "cell_type": "code",
   "execution_count": 51,
   "id": "cdf3c4de",
   "metadata": {},
   "outputs": [],
   "source": [
    "char1 = html.unescape('&#x25FB;') #unicode character untuk kotak berwarna putih beroutline hitam\n",
    "char2 = html.unescape('&#x25FC;') #unicode character untuk kotak berwarna hitam beroutline hitam"
   ]
  },
  {
   "cell_type": "code",
   "execution_count": 52,
   "id": "8f2e74a1",
   "metadata": {},
   "outputs": [],
   "source": [
    "NIM = '10218010' #dibaca sebagai string karena perintah berikutnya tidak memungkinkan sebagai iterasi dari integer"
   ]
  },
  {
   "cell_type": "code",
   "execution_count": 57,
   "id": "3ebdad9f",
   "metadata": {},
   "outputs": [
    {
     "name": "stdout",
     "output_type": "stream",
     "text": [
      "1:◼\n",
      "0:\n",
      "2:◼◼\n",
      "1:◼\n",
      "8:◼◼◼◼◼◼◼◼\n",
      "0:\n",
      "1:◼\n",
      "0:\n"
     ]
    }
   ],
   "source": [
    "for x in NIM: #fungsi for yang didefinisikan untuk setiap x didalam variabel NIM\n",
    "  n = int(x, 10) #transformasi integer dari setiap character NIM yang terhitung didalam x dan mengizinkan pembuatan kotak hingga 9\n",
    "  s = '' #berguna untuk mendefinisikan apa yang ditampilkan dari setiap character dalam NIM\n",
    "  for i in range(n): #definisi for yang baru\n",
    "    s += char2 #s digunakan sebagai substitusi variabel baru berdasarkan kode html yang diberikan (+= berarti menjumlahkan variabel dan menjadikan nilai s bernilai sebesar hasil penjumlahan tersebut)\n",
    "  print(n, ':', s, sep='') #hasilnya akan berupa setiap character NIM yang ditulis secara vertikal kebawah sebanyak len dari NIM lalu ditambah character html yang diinginkan dan sebuah separator tertentu, disini adalah spasi atau tidak sama sekali"
   ]
  },
  {
   "cell_type": "code",
   "execution_count": null,
   "id": "2b61daa0",
   "metadata": {},
   "outputs": [],
   "source": []
  }
 ],
 "metadata": {
  "kernelspec": {
   "display_name": "Python 3 (ipykernel)",
   "language": "python",
   "name": "python3"
  },
  "language_info": {
   "codemirror_mode": {
    "name": "ipython",
    "version": 3
   },
   "file_extension": ".py",
   "mimetype": "text/x-python",
   "name": "python",
   "nbconvert_exporter": "python",
   "pygments_lexer": "ipython3",
   "version": "3.8.12"
  }
 },
 "nbformat": 4,
 "nbformat_minor": 5
}
